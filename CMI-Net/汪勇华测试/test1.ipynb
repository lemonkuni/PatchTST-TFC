{
 "cells": [
  {
   "cell_type": "code",
   "execution_count": 1,
   "metadata": {},
   "outputs": [],
   "source": [
    "import torch"
   ]
  },
  {
   "cell_type": "code",
   "execution_count": null,
   "metadata": {},
   "outputs": [],
   "source": [
    "#生成 \n",
    "x = torch.rand()\n",
    "x.reshape"
   ]
  },
  {
   "cell_type": "code",
   "execution_count": null,
   "metadata": {},
   "outputs": [],
   "source": [
    "import torch\n",
    "import torch.nn as nn\n",
    "\n",
    "# 定义一个简单的模型\n",
    "class Model(nn.Module):\n",
    "    def __init__(self):\n",
    "        super().__init__()\n",
    "        self.fc = nn.Linear(10, 2)  # 可训练参数：weight (2x10), bias (2)\n",
    "    \n",
    "    def forward(self, x):\n",
    "        return self.fc(x)\n",
    "\n",
    "model = Model()\n",
    "\n",
    "# 获取所有可训练参数\n",
    "params = model.parameters()\n",
    "\n",
    "# 转换为列表查看参数\n",
    "param_list = list(params)\n",
    "print(len(param_list))  # 输出 2（对应 weight 和 bias）\n",
    "\n",
    "# 查看参数的形状和类型\n",
    "for param in param_list:\n",
    "    print(param.shape, param.dtype)\n",
    "# 输出：\n",
    "# torch.Size([2, 10]) torch.float32\n",
    "# torch.Size([2]) torch.float32"
   ]
  },
  {
   "cell_type": "code",
   "execution_count": 2,
   "metadata": {},
   "outputs": [
    {
     "name": "stdout",
     "output_type": "stream",
     "text": [
      "tensor(0.3136)\n"
     ]
    }
   ],
   "source": [
    "import torch\n",
    "import torch.nn.functional as F\n",
    "\n",
    "# 模型输出（logits）和真实标签\n",
    "logits = torch.tensor([0.8, -0.5, 2.3])  # 原始输出（未经 Sigmoid）\n",
    "target = torch.tensor([1.0, 0.0, 1.0])   # 真实标签（0 或 1）\n",
    "\n",
    "# 计算损失\n",
    "loss = F.binary_cross_entropy_with_logits(logits, target, reduction='mean')\n",
    "print(loss)  # 输出：tensor(0.3563)"
   ]
  }
 ],
 "metadata": {
  "kernelspec": {
   "display_name": "pytorch_1_12_1",
   "language": "python",
   "name": "python3"
  },
  "language_info": {
   "codemirror_mode": {
    "name": "ipython",
    "version": 3
   },
   "file_extension": ".py",
   "mimetype": "text/x-python",
   "name": "python",
   "nbconvert_exporter": "python",
   "pygments_lexer": "ipython3",
   "version": "3.9.20"
  }
 },
 "nbformat": 4,
 "nbformat_minor": 2
}
